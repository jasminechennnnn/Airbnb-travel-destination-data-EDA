{
  "nbformat": 4,
  "nbformat_minor": 0,
  "metadata": {
    "kernelspec": {
      "display_name": "Python 3",
      "language": "python",
      "name": "python3"
    },
    "language_info": {
      "codemirror_mode": {
        "name": "ipython",
        "version": 3
      },
      "file_extension": ".py",
      "mimetype": "text/x-python",
      "name": "python",
      "nbconvert_exporter": "python",
      "pygments_lexer": "ipython3",
      "version": "3.8.3"
    },
    "colab": {
      "name": "Airbnb data EDA.ipynb",
      "provenance": [],
      "collapsed_sections": [
        "VWWlL-FWTDUx"
      ]
    }
  },
  "cells": [
    {
      "cell_type": "code",
      "metadata": {
        "id": "uLMjg9rgkLpl"
      },
      "source": [
        "import pandas as pd\n",
        "import numpy as np\n",
        "import matplotlib.pyplot as plt\n",
        "%matplotlib inline\n",
        "import seaborn as sns\n",
        "import datetime\n",
        "import warnings\n",
        "warnings.filterwarnings('ignore')"
      ],
      "execution_count": null,
      "outputs": []
    },
    {
      "cell_type": "code",
      "metadata": {
        "colab": {
          "base_uri": "https://localhost:8080/"
        },
        "id": "G8jjerV0pNnW",
        "outputId": "f7e8ed18-7547-4708-a021-d00e7db02662"
      },
      "source": [
        "from google.colab import drive\n",
        "drive.mount('/content/drive')"
      ],
      "execution_count": null,
      "outputs": [
        {
          "output_type": "stream",
          "text": [
            "Mounted at /content/drive\n"
          ],
          "name": "stdout"
        }
      ]
    },
    {
      "cell_type": "code",
      "metadata": {
        "colab": {
          "base_uri": "https://localhost:8080/"
        },
        "id": "h_9xejQYSsh2",
        "outputId": "066210e4-3cb5-4d66-894d-24d38f053160"
      },
      "source": [
        "%cd /content/drive/MyDrive/Colab Notebooks/bigdata/airbnb"
      ],
      "execution_count": null,
      "outputs": [
        {
          "output_type": "stream",
          "text": [
            "/content/drive/MyDrive/Colab Notebooks/bigdata/airbnb\n"
          ],
          "name": "stdout"
        }
      ]
    },
    {
      "cell_type": "code",
      "metadata": {
        "id": "3qm9B76lkLpr"
      },
      "source": [
        "df = pd.read_csv('data/train_users_2.csv')\n",
        "df = df.fillna(-1)"
      ],
      "execution_count": null,
      "outputs": []
    },
    {
      "cell_type": "code",
      "metadata": {
        "id": "t9EC-_SrkLpr",
        "outputId": "30eb990f-add9-438c-990d-9cd9ac5a1610"
      },
      "source": [
        "df.columns"
      ],
      "execution_count": null,
      "outputs": [
        {
          "output_type": "execute_result",
          "data": {
            "text/plain": [
              "Index(['id', 'date_account_created', 'timestamp_first_active',\n",
              "       'date_first_booking', 'gender', 'age', 'signup_method', 'signup_flow',\n",
              "       'language', 'affiliate_channel', 'affiliate_provider',\n",
              "       'first_affiliate_tracked', 'signup_app', 'first_device_type',\n",
              "       'first_browser', 'country_destination'],\n",
              "      dtype='object')"
            ]
          },
          "metadata": {
            "tags": []
          },
          "execution_count": 3
        }
      ]
    },
    {
      "cell_type": "code",
      "metadata": {
        "id": "b8Qlt-s8kLps"
      },
      "source": [
        "df = df.drop(['id', 'date_first_booking'], axis = 1)"
      ],
      "execution_count": null,
      "outputs": []
    },
    {
      "cell_type": "markdown",
      "metadata": {
        "id": "1VZicHShkLps"
      },
      "source": [
        "## 轉換格式"
      ]
    },
    {
      "cell_type": "code",
      "metadata": {
        "id": "Yt5MaKC3kLps"
      },
      "source": [
        "#Converting below columns as categories for plotting in graphs\n",
        "cate_col = ['affiliate_channel',\n",
        "             'affiliate_provider',\n",
        "             'first_affiliate_tracked',\n",
        "             'first_device_type',\n",
        "             'gender',\n",
        "             'language',\n",
        "             'signup_app',\n",
        "             'signup_method',\n",
        "             'signup_flow',\n",
        "            'country_destination']\n",
        "\n",
        "for i in cate_col:\n",
        "    df[i] = df[i].astype('category')\n",
        "    \n",
        "df['date_account_created'] = pd.to_datetime(df['date_account_created'])\n",
        "df['timestamp_first_active'] = pd.to_datetime(df['timestamp_first_active'], format='%Y%m%d%H%M%S')"
      ],
      "execution_count": null,
      "outputs": []
    },
    {
      "cell_type": "markdown",
      "metadata": {
        "id": "F_CfDCRQkLpt"
      },
      "source": [
        "## 去除目的地國家=='NDF'"
      ]
    },
    {
      "cell_type": "code",
      "metadata": {
        "id": "I4e-rtj5kLpt",
        "colab": {
          "base_uri": "https://localhost:8080/"
        },
        "outputId": "4297961b-5662-47a2-c958-41e77f327dea"
      },
      "source": [
        "print(f'原始df形狀(包括預測目標column): {df.shape}')\n",
        "s = sum(df['country_destination'] == 'NDF')\n",
        "print(f'目的地國家=NDF數量: {s}')"
      ],
      "execution_count": null,
      "outputs": [
        {
          "output_type": "stream",
          "text": [
            "原始df形狀(包括預測目標column): (213451, 14)\n",
            "目的地國家=NDF數量: 124543\n"
          ],
          "name": "stdout"
        }
      ]
    },
    {
      "cell_type": "code",
      "metadata": {
        "id": "pSpluYfnkLpt",
        "colab": {
          "base_uri": "https://localhost:8080/"
        },
        "outputId": "923d8467-b6f4-41ae-90e8-84b344a22f1c"
      },
      "source": [
        "df = df.loc[df['country_destination'] != 'NDF', :].reset_index(drop = True)\n",
        "df.shape"
      ],
      "execution_count": null,
      "outputs": [
        {
          "output_type": "execute_result",
          "data": {
            "text/plain": [
              "(88908, 14)"
            ]
          },
          "metadata": {
            "tags": []
          },
          "execution_count": 8
        }
      ]
    },
    {
      "cell_type": "markdown",
      "metadata": {
        "id": "GqKYL_uDkLpu"
      },
      "source": [
        "## 特徵工程"
      ]
    },
    {
      "cell_type": "code",
      "metadata": {
        "id": "sn1JgNFDkLpu",
        "colab": {
          "base_uri": "https://localhost:8080/"
        },
        "outputId": "85b20211-a957-4614-f949-c4d562c941e5"
      },
      "source": [
        "df.isnull().sum()"
      ],
      "execution_count": null,
      "outputs": [
        {
          "output_type": "execute_result",
          "data": {
            "text/plain": [
              "date_account_created       0\n",
              "timestamp_first_active     0\n",
              "gender                     0\n",
              "age                        0\n",
              "signup_method              0\n",
              "signup_flow                0\n",
              "language                   0\n",
              "affiliate_channel          0\n",
              "affiliate_provider         0\n",
              "first_affiliate_tracked    0\n",
              "signup_app                 0\n",
              "first_device_type          0\n",
              "first_browser              0\n",
              "country_destination        0\n",
              "dtype: int64"
            ]
          },
          "metadata": {
            "tags": []
          },
          "execution_count": 9
        }
      ]
    },
    {
      "cell_type": "markdown",
      "metadata": {
        "id": "DyDPfhCzkLpu"
      },
      "source": [
        "* 產生 'date_account_created', 'timestamp_first_active'的year, month項"
      ]
    },
    {
      "cell_type": "code",
      "metadata": {
        "id": "PqOUrua5kLpu"
      },
      "source": [
        "dac = np.vstack(df['date_account_created'].astype(str).str.replace(' 00:00:00', '').apply(lambda x: list(map(int, x.split('-')))).values)\n",
        "df['dac_year'] = dac[:,0]\n",
        "df['dac_month'] = dac[:,1]\n",
        "df = df.drop(['date_account_created'], axis=1)"
      ],
      "execution_count": null,
      "outputs": []
    },
    {
      "cell_type": "code",
      "metadata": {
        "id": "T2SdrhiMkLpv"
      },
      "source": [
        "tfa = np.vstack(df['timestamp_first_active'].astype(str).str[:10].apply(lambda x: list(map(int, x.split('-')))).values)\n",
        "df['tfa_year'] = tfa[:, 0]\n",
        "df['tfa_month'] = tfa[:, 1]\n",
        "df = df.drop(['timestamp_first_active'], axis=1)"
      ],
      "execution_count": null,
      "outputs": []
    },
    {
      "cell_type": "code",
      "metadata": {
        "id": "W-369k73kLpv",
        "outputId": "818fee7d-3202-41a5-dca7-a802bfac502a"
      },
      "source": [
        "df.shape"
      ],
      "execution_count": null,
      "outputs": [
        {
          "output_type": "execute_result",
          "data": {
            "text/plain": [
              "(88908, 16)"
            ]
          },
          "metadata": {
            "tags": []
          },
          "execution_count": 11
        }
      ]
    },
    {
      "cell_type": "code",
      "metadata": {
        "id": "zJf3mZkckLpv",
        "outputId": "64fe4df6-c90d-4959-9af3-73dc854f3424"
      },
      "source": [
        "df[['dac_year', 'dac_month', 'tfa_year', 'tfa_month']].head()"
      ],
      "execution_count": null,
      "outputs": [
        {
          "output_type": "execute_result",
          "data": {
            "text/html": [
              "<div>\n",
              "<style scoped>\n",
              "    .dataframe tbody tr th:only-of-type {\n",
              "        vertical-align: middle;\n",
              "    }\n",
              "\n",
              "    .dataframe tbody tr th {\n",
              "        vertical-align: top;\n",
              "    }\n",
              "\n",
              "    .dataframe thead th {\n",
              "        text-align: right;\n",
              "    }\n",
              "</style>\n",
              "<table border=\"1\" class=\"dataframe\">\n",
              "  <thead>\n",
              "    <tr style=\"text-align: right;\">\n",
              "      <th></th>\n",
              "      <th>dac_year</th>\n",
              "      <th>dac_month</th>\n",
              "      <th>tfa_year</th>\n",
              "      <th>tfa_month</th>\n",
              "    </tr>\n",
              "  </thead>\n",
              "  <tbody>\n",
              "    <tr>\n",
              "      <th>0</th>\n",
              "      <td>2010</td>\n",
              "      <td>9</td>\n",
              "      <td>2009</td>\n",
              "      <td>6</td>\n",
              "    </tr>\n",
              "    <tr>\n",
              "      <th>1</th>\n",
              "      <td>2011</td>\n",
              "      <td>12</td>\n",
              "      <td>2009</td>\n",
              "      <td>10</td>\n",
              "    </tr>\n",
              "    <tr>\n",
              "      <th>2</th>\n",
              "      <td>2010</td>\n",
              "      <td>9</td>\n",
              "      <td>2009</td>\n",
              "      <td>12</td>\n",
              "    </tr>\n",
              "    <tr>\n",
              "      <th>3</th>\n",
              "      <td>2010</td>\n",
              "      <td>1</td>\n",
              "      <td>2010</td>\n",
              "      <td>1</td>\n",
              "    </tr>\n",
              "    <tr>\n",
              "      <th>4</th>\n",
              "      <td>2010</td>\n",
              "      <td>1</td>\n",
              "      <td>2010</td>\n",
              "      <td>1</td>\n",
              "    </tr>\n",
              "  </tbody>\n",
              "</table>\n",
              "</div>"
            ],
            "text/plain": [
              "   dac_year  dac_month  tfa_year  tfa_month\n",
              "0      2010          9      2009          6\n",
              "1      2011         12      2009         10\n",
              "2      2010          9      2009         12\n",
              "3      2010          1      2010          1\n",
              "4      2010          1      2010          1"
            ]
          },
          "metadata": {
            "tags": []
          },
          "execution_count": 12
        }
      ]
    },
    {
      "cell_type": "markdown",
      "metadata": {
        "id": "Jq2eg-SvkLpw"
      },
      "source": [
        "* 處理太多類別的category columns(first_browser有40類太多了，而且很多類別的數量只有1個)"
      ]
    },
    {
      "cell_type": "code",
      "metadata": {
        "id": "gRiiTWxjkLpw",
        "colab": {
          "base_uri": "https://localhost:8080/"
        },
        "outputId": "11177641-d786-4a24-b1ad-06ea8d1c35bd"
      },
      "source": [
        "cate = ['gender', 'signup_method', 'signup_flow', 'language', 'affiliate_channel',\n",
        "             'affiliate_provider', 'first_affiliate_tracked', 'signup_app', 'first_device_type', 'first_browser']\n",
        "for f in cate:\n",
        "    print(f, '共有', df[f].value_counts().shape[0], '類')"
      ],
      "execution_count": null,
      "outputs": [
        {
          "output_type": "stream",
          "text": [
            "gender 共有 4 類\n",
            "signup_method 共有 3 類\n",
            "signup_flow 共有 17 類\n",
            "language 共有 25 類\n",
            "affiliate_channel 共有 8 類\n",
            "affiliate_provider 共有 18 類\n",
            "first_affiliate_tracked 共有 8 類\n",
            "signup_app 共有 4 類\n",
            "first_device_type 共有 9 類\n",
            "first_browser 共有 40 類\n"
          ],
          "name": "stdout"
        }
      ]
    },
    {
      "cell_type": "code",
      "metadata": {
        "id": "Wx28_BsXkLpx",
        "colab": {
          "base_uri": "https://localhost:8080/"
        },
        "outputId": "8b2f31e2-4d7d-40c7-a60c-34adfb301917"
      },
      "source": [
        "df['first_browser'].value_counts().sort_values(0)"
      ],
      "execution_count": null,
      "outputs": [
        {
          "output_type": "execute_result",
          "data": {
            "text/plain": [
              "Avant Browser               1\n",
              "SlimBrowser                 1\n",
              "NetNewsWire                 1\n",
              "Kindle Browser              1\n",
              "CometBird                   1\n",
              "Stainless                   1\n",
              "Palm Pre web browser        1\n",
              "Mozilla                     1\n",
              "Googlebot                   1\n",
              "Yandex.Browser              1\n",
              "TheWorld Browser            2\n",
              "Opera Mini                  2\n",
              "CoolNovo                    3\n",
              "wOSBrowser                  3\n",
              "SeaMonkey                   4\n",
              "Pale Moon                   4\n",
              "TenFourFox                  4\n",
              "SiteKiosk                   7\n",
              "IE Mobile                   7\n",
              "Camino                      7\n",
              "IceWeasel                   8\n",
              "Sogou Explorer              9\n",
              "Iron                        9\n",
              "RockMelt                   12\n",
              "Mobile Firefox             13\n",
              "Apple Mail                 15\n",
              "Maxthon                    16\n",
              "BlackBerry Browser         22\n",
              "Silk                       43\n",
              "Chromium                   43\n",
              "AOL Explorer               63\n",
              "Opera                      64\n",
              "Android Browser           280\n",
              "Chrome Mobile             408\n",
              "Mobile Safari            7181\n",
              "-unknown-                7618\n",
              "IE                       7723\n",
              "Firefox                 15730\n",
              "Safari                  19721\n",
              "Chrome                  29877\n",
              "Name: first_browser, dtype: int64"
            ]
          },
          "metadata": {
            "tags": []
          },
          "execution_count": 13
        }
      ]
    },
    {
      "cell_type": "code",
      "metadata": {
        "id": "wf_46TE6kLpy",
        "colab": {
          "base_uri": "https://localhost:8080/"
        },
        "outputId": "af24373b-c33d-4f57-ad55-43e43ca5ef15"
      },
      "source": [
        "# 將數量小於8個以內的類別改成others\n",
        "sort_fb = df['first_browser'].value_counts().sort_values(0)\n",
        "others = list(sort_fb[sort_fb.values < 8].index)\n",
        "len(others), others"
      ],
      "execution_count": null,
      "outputs": [
        {
          "output_type": "execute_result",
          "data": {
            "text/plain": [
              "(20,\n",
              " ['Avant Browser',\n",
              "  'SlimBrowser',\n",
              "  'NetNewsWire',\n",
              "  'Kindle Browser',\n",
              "  'CometBird',\n",
              "  'Stainless',\n",
              "  'Palm Pre web browser',\n",
              "  'Mozilla',\n",
              "  'Googlebot',\n",
              "  'Yandex.Browser',\n",
              "  'TheWorld Browser',\n",
              "  'Opera Mini',\n",
              "  'CoolNovo',\n",
              "  'wOSBrowser',\n",
              "  'SeaMonkey',\n",
              "  'Pale Moon',\n",
              "  'TenFourFox',\n",
              "  'SiteKiosk',\n",
              "  'IE Mobile',\n",
              "  'Camino'])"
            ]
          },
          "metadata": {
            "tags": []
          },
          "execution_count": 14
        }
      ]
    },
    {
      "cell_type": "code",
      "metadata": {
        "id": "8q-5iATSkLpy"
      },
      "source": [
        "df['first_browser'][df['first_browser'].isin(others)] = 'others'\n",
        "df['first_browser'] = df['first_browser'].astype('category')"
      ],
      "execution_count": null,
      "outputs": []
    },
    {
      "cell_type": "code",
      "metadata": {
        "id": "RUZs5QRkkLpy",
        "colab": {
          "base_uri": "https://localhost:8080/"
        },
        "outputId": "5e5e9056-5c50-4212-e792-5ea17399eee9"
      },
      "source": [
        "df['first_browser'].value_counts().sort_values(0)"
      ],
      "execution_count": null,
      "outputs": [
        {
          "output_type": "execute_result",
          "data": {
            "text/plain": [
              "IceWeasel                 8\n",
              "Sogou Explorer            9\n",
              "Iron                      9\n",
              "RockMelt                 12\n",
              "Mobile Firefox           13\n",
              "Apple Mail               15\n",
              "Maxthon                  16\n",
              "BlackBerry Browser       22\n",
              "Silk                     43\n",
              "Chromium                 43\n",
              "others                   53\n",
              "AOL Explorer             63\n",
              "Opera                    64\n",
              "Android Browser         280\n",
              "Chrome Mobile           408\n",
              "Mobile Safari          7181\n",
              "-unknown-              7618\n",
              "IE                     7723\n",
              "Firefox               15730\n",
              "Safari                19721\n",
              "Chrome                29877\n",
              "Name: first_browser, dtype: int64"
            ]
          },
          "metadata": {
            "tags": []
          },
          "execution_count": 16
        }
      ]
    },
    {
      "cell_type": "markdown",
      "metadata": {
        "id": "c2VIvThckLpy"
      },
      "source": [
        "* 處理年齡離群值(小於16歲(未成年)和大於100歲的改成-1)"
      ]
    },
    {
      "cell_type": "code",
      "metadata": {
        "id": "YTdgZYjlkLpz"
      },
      "source": [
        "age = df['age'].values\n",
        "df['age'] = np.where(np.logical_or(age < 10, age > 100), -1, age)"
      ],
      "execution_count": null,
      "outputs": []
    },
    {
      "cell_type": "markdown",
      "metadata": {
        "id": "VWWlL-FWTDUx"
      },
      "source": [
        "## 儲存資料"
      ]
    },
    {
      "cell_type": "code",
      "metadata": {
        "id": "Ol8nEcuDTOkW"
      },
      "source": [
        "df.to_csv('airbnb_edit.csv', index = False)"
      ],
      "execution_count": null,
      "outputs": []
    }
  ]
}