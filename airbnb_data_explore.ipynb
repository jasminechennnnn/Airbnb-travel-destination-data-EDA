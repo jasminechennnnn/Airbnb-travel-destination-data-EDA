{
  "nbformat": 4,
  "nbformat_minor": 0,
  "metadata": {
    "colab": {
      "name": "airbnb_data_explore.ipynb",
      "provenance": [],
      "collapsed_sections": []
    },
    "kernelspec": {
      "name": "python3",
      "display_name": "Python 3"
    }
  },
  "cells": [
    {
      "cell_type": "code",
      "metadata": {
        "id": "lqpUXdjsbe84"
      },
      "source": [
        "import pandas as pd\r\n",
        "import numpy as np\r\n",
        "import matplotlib.pyplot as plt\r\n",
        "%matplotlib inline\r\n",
        "import seaborn as sns\r\n",
        "import datetime\r\n",
        "import warnings\r\n",
        "# warnings.filterwarnings('ignore')"
      ],
      "execution_count": null,
      "outputs": []
    },
    {
      "cell_type": "code",
      "metadata": {
        "colab": {
          "base_uri": "https://localhost:8080/"
        },
        "id": "Jzzt6exKpLFd",
        "outputId": "1ade0e4d-3cda-4578-8709-ca1e2744fca3"
      },
      "source": [
        "from google.colab import drive\r\n",
        "drive.mount('/content/drive')"
      ],
      "execution_count": null,
      "outputs": [
        {
          "output_type": "stream",
          "text": [
            "Drive already mounted at /content/drive; to attempt to forcibly remount, call drive.mount(\"/content/drive\", force_remount=True).\n"
          ],
          "name": "stdout"
        }
      ]
    },
    {
      "cell_type": "code",
      "metadata": {
        "colab": {
          "base_uri": "https://localhost:8080/"
        },
        "id": "bw_5a02AqkfV",
        "outputId": "48aaa9f2-ad89-4458-e67f-4b7a0eb29681"
      },
      "source": [
        "%cd /content/drive/MyDrive/Colab Notebooks/bigdata/airbnb/"
      ],
      "execution_count": null,
      "outputs": [
        {
          "output_type": "stream",
          "text": [
            "/content/drive/MyDrive/Colab Notebooks/bigdata/airbnb\n"
          ],
          "name": "stdout"
        }
      ]
    },
    {
      "cell_type": "markdown",
      "metadata": {
        "id": "3uNljqdk8YGw"
      },
      "source": [
        "## import data\r\n",
        "* df_all: train_x + validation_x\r\n",
        "* df_all_y: train_y + validation_y\r\n",
        "* df_test: test_x (預測結果要上傳結果到kaggle)"
      ]
    },
    {
      "cell_type": "code",
      "metadata": {
        "colab": {
          "base_uri": "https://localhost:8080/",
          "height": 250
        },
        "id": "41VCyX3pjFnU",
        "outputId": "2e51218a-5b3a-4378-fa34-b8a26d0286a8"
      },
      "source": [
        "df_all = pd.read_csv('data/train_users_2.csv')\r\n",
        "df_all = df_all.fillna(-1)\r\n",
        "df_all.head()"
      ],
      "execution_count": null,
      "outputs": [
        {
          "output_type": "execute_result",
          "data": {
            "text/html": [
              "<div>\n",
              "<style scoped>\n",
              "    .dataframe tbody tr th:only-of-type {\n",
              "        vertical-align: middle;\n",
              "    }\n",
              "\n",
              "    .dataframe tbody tr th {\n",
              "        vertical-align: top;\n",
              "    }\n",
              "\n",
              "    .dataframe thead th {\n",
              "        text-align: right;\n",
              "    }\n",
              "</style>\n",
              "<table border=\"1\" class=\"dataframe\">\n",
              "  <thead>\n",
              "    <tr style=\"text-align: right;\">\n",
              "      <th></th>\n",
              "      <th>id</th>\n",
              "      <th>date_account_created</th>\n",
              "      <th>timestamp_first_active</th>\n",
              "      <th>date_first_booking</th>\n",
              "      <th>gender</th>\n",
              "      <th>age</th>\n",
              "      <th>signup_method</th>\n",
              "      <th>signup_flow</th>\n",
              "      <th>language</th>\n",
              "      <th>affiliate_channel</th>\n",
              "      <th>affiliate_provider</th>\n",
              "      <th>first_affiliate_tracked</th>\n",
              "      <th>signup_app</th>\n",
              "      <th>first_device_type</th>\n",
              "      <th>first_browser</th>\n",
              "      <th>country_destination</th>\n",
              "    </tr>\n",
              "  </thead>\n",
              "  <tbody>\n",
              "    <tr>\n",
              "      <th>0</th>\n",
              "      <td>gxn3p5htnn</td>\n",
              "      <td>2010-06-28</td>\n",
              "      <td>20090319043255</td>\n",
              "      <td>-1</td>\n",
              "      <td>-unknown-</td>\n",
              "      <td>-1.0</td>\n",
              "      <td>facebook</td>\n",
              "      <td>0</td>\n",
              "      <td>en</td>\n",
              "      <td>direct</td>\n",
              "      <td>direct</td>\n",
              "      <td>untracked</td>\n",
              "      <td>Web</td>\n",
              "      <td>Mac Desktop</td>\n",
              "      <td>Chrome</td>\n",
              "      <td>NDF</td>\n",
              "    </tr>\n",
              "    <tr>\n",
              "      <th>1</th>\n",
              "      <td>820tgsjxq7</td>\n",
              "      <td>2011-05-25</td>\n",
              "      <td>20090523174809</td>\n",
              "      <td>-1</td>\n",
              "      <td>MALE</td>\n",
              "      <td>38.0</td>\n",
              "      <td>facebook</td>\n",
              "      <td>0</td>\n",
              "      <td>en</td>\n",
              "      <td>seo</td>\n",
              "      <td>google</td>\n",
              "      <td>untracked</td>\n",
              "      <td>Web</td>\n",
              "      <td>Mac Desktop</td>\n",
              "      <td>Chrome</td>\n",
              "      <td>NDF</td>\n",
              "    </tr>\n",
              "    <tr>\n",
              "      <th>2</th>\n",
              "      <td>4ft3gnwmtx</td>\n",
              "      <td>2010-09-28</td>\n",
              "      <td>20090609231247</td>\n",
              "      <td>2010-08-02</td>\n",
              "      <td>FEMALE</td>\n",
              "      <td>56.0</td>\n",
              "      <td>basic</td>\n",
              "      <td>3</td>\n",
              "      <td>en</td>\n",
              "      <td>direct</td>\n",
              "      <td>direct</td>\n",
              "      <td>untracked</td>\n",
              "      <td>Web</td>\n",
              "      <td>Windows Desktop</td>\n",
              "      <td>IE</td>\n",
              "      <td>US</td>\n",
              "    </tr>\n",
              "    <tr>\n",
              "      <th>3</th>\n",
              "      <td>bjjt8pjhuk</td>\n",
              "      <td>2011-12-05</td>\n",
              "      <td>20091031060129</td>\n",
              "      <td>2012-09-08</td>\n",
              "      <td>FEMALE</td>\n",
              "      <td>42.0</td>\n",
              "      <td>facebook</td>\n",
              "      <td>0</td>\n",
              "      <td>en</td>\n",
              "      <td>direct</td>\n",
              "      <td>direct</td>\n",
              "      <td>untracked</td>\n",
              "      <td>Web</td>\n",
              "      <td>Mac Desktop</td>\n",
              "      <td>Firefox</td>\n",
              "      <td>other</td>\n",
              "    </tr>\n",
              "    <tr>\n",
              "      <th>4</th>\n",
              "      <td>87mebub9p4</td>\n",
              "      <td>2010-09-14</td>\n",
              "      <td>20091208061105</td>\n",
              "      <td>2010-02-18</td>\n",
              "      <td>-unknown-</td>\n",
              "      <td>41.0</td>\n",
              "      <td>basic</td>\n",
              "      <td>0</td>\n",
              "      <td>en</td>\n",
              "      <td>direct</td>\n",
              "      <td>direct</td>\n",
              "      <td>untracked</td>\n",
              "      <td>Web</td>\n",
              "      <td>Mac Desktop</td>\n",
              "      <td>Chrome</td>\n",
              "      <td>US</td>\n",
              "    </tr>\n",
              "  </tbody>\n",
              "</table>\n",
              "</div>"
            ],
            "text/plain": [
              "           id date_account_created  ...  first_browser country_destination\n",
              "0  gxn3p5htnn           2010-06-28  ...         Chrome                 NDF\n",
              "1  820tgsjxq7           2011-05-25  ...         Chrome                 NDF\n",
              "2  4ft3gnwmtx           2010-09-28  ...             IE                  US\n",
              "3  bjjt8pjhuk           2011-12-05  ...        Firefox               other\n",
              "4  87mebub9p4           2010-09-14  ...         Chrome                  US\n",
              "\n",
              "[5 rows x 16 columns]"
            ]
          },
          "metadata": {
            "tags": []
          },
          "execution_count": 5
        }
      ]
    },
    {
      "cell_type": "code",
      "metadata": {
        "colab": {
          "base_uri": "https://localhost:8080/"
        },
        "id": "X8HcaoMGjFp3",
        "outputId": "b187944e-8757-4330-e45f-5edcd64de58d"
      },
      "source": [
        "df_all.shape"
      ],
      "execution_count": null,
      "outputs": [
        {
          "output_type": "execute_result",
          "data": {
            "text/plain": [
              "(213451, 16)"
            ]
          },
          "metadata": {
            "tags": []
          },
          "execution_count": 6
        }
      ]
    },
    {
      "cell_type": "code",
      "metadata": {
        "colab": {
          "base_uri": "https://localhost:8080/"
        },
        "id": "k8oiOwwE4lsI",
        "outputId": "97fdef85-5b92-4fb5-8d1d-afece16c0e73"
      },
      "source": [
        "df_all.columns"
      ],
      "execution_count": null,
      "outputs": [
        {
          "output_type": "execute_result",
          "data": {
            "text/plain": [
              "Index(['id', 'date_account_created', 'timestamp_first_active',\n",
              "       'date_first_booking', 'gender', 'age', 'signup_method', 'signup_flow',\n",
              "       'language', 'affiliate_channel', 'affiliate_provider',\n",
              "       'first_affiliate_tracked', 'signup_app', 'first_device_type',\n",
              "       'first_browser', 'country_destination'],\n",
              "      dtype='object')"
            ]
          },
          "metadata": {
            "tags": []
          },
          "execution_count": 7
        }
      ]
    },
    {
      "cell_type": "code",
      "metadata": {
        "id": "KZtyyt963-UV"
      },
      "source": [
        "df_all_y = df_all['country_destination']\r\n",
        "df_all = df_all.drop(['id', 'date_first_booking', 'country_destination'], axis = 1)"
      ],
      "execution_count": null,
      "outputs": []
    },
    {
      "cell_type": "code",
      "metadata": {
        "colab": {
          "base_uri": "https://localhost:8080/"
        },
        "id": "2oHfKHSO7S1k",
        "outputId": "c5b697cd-5821-40fa-8ee0-76fb905794ec"
      },
      "source": [
        "df_all.isnull().sum()"
      ],
      "execution_count": null,
      "outputs": [
        {
          "output_type": "execute_result",
          "data": {
            "text/plain": [
              "date_account_created       0\n",
              "timestamp_first_active     0\n",
              "gender                     0\n",
              "age                        0\n",
              "signup_method              0\n",
              "signup_flow                0\n",
              "language                   0\n",
              "affiliate_channel          0\n",
              "affiliate_provider         0\n",
              "first_affiliate_tracked    0\n",
              "signup_app                 0\n",
              "first_device_type          0\n",
              "first_browser              0\n",
              "dtype: int64"
            ]
          },
          "metadata": {
            "tags": []
          },
          "execution_count": 9
        }
      ]
    },
    {
      "cell_type": "markdown",
      "metadata": {
        "id": "AAiNTe6Y4f5t"
      },
      "source": [
        "## 轉換格式"
      ]
    },
    {
      "cell_type": "code",
      "metadata": {
        "id": "esUWNtPs4ZRz"
      },
      "source": [
        "#Converting below columns as categories for plotting in graphs\r\n",
        "categorical_features = ['affiliate_channel',\r\n",
        "             'affiliate_provider',\r\n",
        "             'first_affiliate_tracked',\r\n",
        "             'first_browser',\r\n",
        "             'first_device_type',\r\n",
        "             'gender',\r\n",
        "             'language',\r\n",
        "             'signup_app',\r\n",
        "             'signup_method',\r\n",
        "             'signup_flow']\r\n",
        "\r\n",
        "for i in categorical_features:\r\n",
        "    df_all[i] = df_all[i].astype('category')"
      ],
      "execution_count": null,
      "outputs": []
    },
    {
      "cell_type": "code",
      "metadata": {
        "id": "khNgluKv4a70"
      },
      "source": [
        "df_all['date_account_created'] = pd.to_datetime(df_all['date_account_created'])\r\n",
        "df_all['timestamp_first_active'] = pd.to_datetime(df_all['timestamp_first_active'], format='%Y%m%d%H%M%S')"
      ],
      "execution_count": null,
      "outputs": []
    },
    {
      "cell_type": "markdown",
      "metadata": {
        "id": "aawuoDuj5P_t"
      },
      "source": [
        "## 資料探索"
      ]
    },
    {
      "cell_type": "code",
      "metadata": {
        "id": "YgkXcC6cGI9t"
      },
      "source": [
        "sns.set_style('whitegrid')\r\n",
        "sns.set_context(\"talk\")"
      ],
      "execution_count": null,
      "outputs": []
    },
    {
      "cell_type": "markdown",
      "metadata": {
        "id": "OF5COFad61pW"
      },
      "source": [
        "* gender分布"
      ]
    },
    {
      "cell_type": "code",
      "metadata": {
        "colab": {
          "base_uri": "https://localhost:8080/",
          "height": 375
        },
        "id": "MKD995i74a-X",
        "outputId": "01218149-e88b-4c4f-878f-240437f5bed1"
      },
      "source": [
        "plt.figure(figsize=(10,5))\r\n",
        "order1 = df_all['gender'].value_counts().index\r\n",
        "sns.countplot(data = df_all, x = 'gender', order = order1)\r\n",
        "# , color = sns.color_palette()[0]\r\n",
        "plt.xlabel('Gender')\r\n",
        "plt.ylabel('Count')\r\n",
        "plt.title('Gender Distribution')\r\n",
        "order2 = df_all['gender'].value_counts()\r\n",
        "\r\n",
        "for i in range(order2.shape[0]):\r\n",
        "    count = order2[i]\r\n",
        "    strt='{:0.1f}%'.format(100*count / df_all.shape[0])\r\n",
        "    plt.text(i,count+1000,strt,ha='center')"
      ],
      "execution_count": null,
      "outputs": [
        {
          "output_type": "display_data",
          "data": {
            "image/png": "[encoded data removed]",
            "text/plain": [
              "<Figure size 720x360 with 1 Axes>"
            ]
          },
          "metadata": {
            "tags": []
          }
        }
      ]
    },
    {
      "cell_type": "markdown",
      "metadata": {
        "id": "km5TVmJb-ayH"
      },
      "source": [
        "* 帳號創建年份分布"
      ]
    },
    {
      "cell_type": "code",
      "metadata": {
        "colab": {
          "base_uri": "https://localhost:8080/",
          "height": 375
        },
        "id": "Y2AZ1aEK-Wmg",
        "outputId": "75125f3d-cbc5-4c8b-bfb2-1105bcb5e26a"
      },
      "source": [
        "#Extracting year for date_account_created\r\n",
        "df_all['acc_year'] = df_all['date_account_created'].dt.year\r\n",
        "\r\n",
        "df1 = df_all.groupby('acc_year').count()\r\n",
        "df1.head()\r\n",
        "\r\n",
        "years = [2010,2011,2012,2013,2014]\r\n",
        "yearsOrder=pd.api.types.CategoricalDtype(ordered=True, categories=years)\r\n",
        "df1.reset_index(inplace = True)\r\n",
        "df1.acc_year = df1.acc_year.astype(yearsOrder)\r\n",
        "\r\n",
        "plt.figure(figsize=[10, 5])\r\n",
        "sns.barplot(data=df1,x='acc_year',y='affiliate_provider');\r\n",
        "# ,color=sns.color_palette()[2]\r\n",
        "plt.title('Year wise distribution');\r\n",
        "plt.xlabel('Year')\r\n",
        "plt.ylabel('Counts')\r\n",
        "for i in range(df1.shape[0]):\r\n",
        "    count=df1.iloc[i]['affiliate_provider']\r\n",
        "    strt='{:0.2f}%'.format(100*count/df_all.shape[0])\r\n",
        "    plt.text(i,count+1000,strt,ha='center')"
      ],
      "execution_count": null,
      "outputs": [
        {
          "output_type": "display_data",
          "data": {
            "image/png": "[encoded data removed]",
            "text/plain": [
              "<Figure size 720x360 with 1 Axes>"
            ]
          },
          "metadata": {
            "tags": []
          }
        }
      ]
    },
    {
      "cell_type": "markdown",
      "metadata": {
        "id": "6tExjtiG_C-I"
      },
      "source": [
        "* 2013年看起來最多人創建帳號, 所以看一下當年創建帳號的月份分布"
      ]
    },
    {
      "cell_type": "code",
      "metadata": {
        "colab": {
          "base_uri": "https://localhost:8080/",
          "height": 476
        },
        "id": "OF8EfCZHAWl4",
        "outputId": "884b0bed-5d90-4914-a52a-5285f6d0aff3"
      },
      "source": [
        "# 2013\r\n",
        "df2 = df_all[df_all['date_account_created'].dt.year==2013]\r\n",
        "df2['monthYear13'] = df2['date_account_created'].map(lambda x: x.strftime('%m-%Y'))\r\n",
        "df2 = df2.groupby('monthYear13').count()\r\n",
        "\r\n",
        "plt.figure(figsize=[15,5])\r\n",
        "sns.barplot(data=df2,x=df2.index,y='affiliate_provider');\r\n",
        "# ,color=sns.color_palette()[3]\r\n",
        "plt.title('2013 month wise distribution');\r\n",
        "plt.xlabel('Month-Year')\r\n",
        "plt.ylabel('Counts')\r\n",
        "for i in range(df2.shape[0]):\r\n",
        "    count=df2.iloc[i]['affiliate_provider']\r\n",
        "    strt='{:0.2f}%'.format(100*count/df_all.shape[0])\r\n",
        "    plt.text(i,count+100,strt,ha='center')"
      ],
      "execution_count": null,
      "outputs": [
        {
          "output_type": "stream",
          "text": [
            "/usr/local/lib/python3.6/dist-packages/ipykernel_launcher.py:3: SettingWithCopyWarning: \n",
            "A value is trying to be set on a copy of a slice from a DataFrame.\n",
            "Try using .loc[row_indexer,col_indexer] = value instead\n",
            "\n",
            "See the caveats in the documentation: https://pandas.pydata.org/pandas-docs/stable/user_guide/indexing.html#returning-a-view-versus-a-copy\n",
            "  This is separate from the ipykernel package so we can avoid doing imports until\n"
          ],
          "name": "stderr"
        },
        {
          "output_type": "display_data",
          "data": {
            "image/png": "[encoded data removed]",
            "text/plain": [
              "<Figure size 1080x360 with 1 Axes>"
            ]
          },
          "metadata": {
            "tags": []
          }
        }
      ]
    },
    {
      "cell_type": "markdown",
      "metadata": {
        "id": "pTialpbFBlSp"
      },
      "source": [
        "* age"
      ]
    },
    {
      "cell_type": "code",
      "metadata": {
        "colab": {
          "base_uri": "https://localhost:8080/",
          "height": 458
        },
        "id": "EYVBOht7tQHp",
        "outputId": "027765e7-c5c3-46f9-8733-18e4142ce88a"
      },
      "source": [
        "df_all.sort_values('age', ascending = False)[df_all['age'] > 100][['age', '']]"
      ],
      "execution_count": null,
      "outputs": [
        {
          "output_type": "stream",
          "text": [
            "/usr/local/lib/python3.6/dist-packages/ipykernel_launcher.py:1: UserWarning: Boolean Series key will be reindexed to match DataFrame index.\n",
            "  \"\"\"Entry point for launching an IPython kernel.\n"
          ],
          "name": "stderr"
        },
        {
          "output_type": "execute_result",
          "data": {
            "text/html": [
              "<div>\n",
              "<style scoped>\n",
              "    .dataframe tbody tr th:only-of-type {\n",
              "        vertical-align: middle;\n",
              "    }\n",
              "\n",
              "    .dataframe tbody tr th {\n",
              "        vertical-align: top;\n",
              "    }\n",
              "\n",
              "    .dataframe thead th {\n",
              "        text-align: right;\n",
              "    }\n",
              "</style>\n",
              "<table border=\"1\" class=\"dataframe\">\n",
              "  <thead>\n",
              "    <tr style=\"text-align: right;\">\n",
              "      <th></th>\n",
              "      <th>date_account_created</th>\n",
              "      <th>timestamp_first_active</th>\n",
              "      <th>gender</th>\n",
              "      <th>age</th>\n",
              "      <th>signup_method</th>\n",
              "      <th>signup_flow</th>\n",
              "      <th>language</th>\n",
              "      <th>affiliate_channel</th>\n",
              "      <th>affiliate_provider</th>\n",
              "      <th>first_affiliate_tracked</th>\n",
              "      <th>signup_app</th>\n",
              "      <th>first_device_type</th>\n",
              "      <th>first_browser</th>\n",
              "      <th>member_age_bins</th>\n",
              "    </tr>\n",
              "  </thead>\n",
              "  <tbody>\n",
              "    <tr>\n",
              "      <th>68401</th>\n",
              "      <td>2013-04-01</td>\n",
              "      <td>2013-04-01 19:23:48</td>\n",
              "      <td>MALE</td>\n",
              "      <td>2014.0</td>\n",
              "      <td>basic</td>\n",
              "      <td>0</td>\n",
              "      <td>en</td>\n",
              "      <td>direct</td>\n",
              "      <td>direct</td>\n",
              "      <td>linked</td>\n",
              "      <td>Web</td>\n",
              "      <td>Windows Desktop</td>\n",
              "      <td>Firefox</td>\n",
              "      <td>NaN</td>\n",
              "    </tr>\n",
              "    <tr>\n",
              "      <th>40923</th>\n",
              "      <td>2012-09-14</td>\n",
              "      <td>2012-09-14 17:23:48</td>\n",
              "      <td>FEMALE</td>\n",
              "      <td>2014.0</td>\n",
              "      <td>basic</td>\n",
              "      <td>0</td>\n",
              "      <td>en</td>\n",
              "      <td>direct</td>\n",
              "      <td>direct</td>\n",
              "      <td>linked</td>\n",
              "      <td>Web</td>\n",
              "      <td>Mac Desktop</td>\n",
              "      <td>Chrome</td>\n",
              "      <td>NaN</td>\n",
              "    </tr>\n",
              "    <tr>\n",
              "      <th>77910</th>\n",
              "      <td>2013-05-18</td>\n",
              "      <td>2013-05-18 20:31:23</td>\n",
              "      <td>FEMALE</td>\n",
              "      <td>2014.0</td>\n",
              "      <td>facebook</td>\n",
              "      <td>21</td>\n",
              "      <td>en</td>\n",
              "      <td>sem-brand</td>\n",
              "      <td>google</td>\n",
              "      <td>untracked</td>\n",
              "      <td>Web</td>\n",
              "      <td>iPhone</td>\n",
              "      <td>Mobile Safari</td>\n",
              "      <td>NaN</td>\n",
              "    </tr>\n",
              "    <tr>\n",
              "      <th>145056</th>\n",
              "      <td>2014-01-23</td>\n",
              "      <td>2014-01-23 05:05:39</td>\n",
              "      <td>FEMALE</td>\n",
              "      <td>2014.0</td>\n",
              "      <td>basic</td>\n",
              "      <td>0</td>\n",
              "      <td>en</td>\n",
              "      <td>direct</td>\n",
              "      <td>direct</td>\n",
              "      <td>untracked</td>\n",
              "      <td>Web</td>\n",
              "      <td>iPad</td>\n",
              "      <td>Chrome Mobile</td>\n",
              "      <td>NaN</td>\n",
              "    </tr>\n",
              "    <tr>\n",
              "      <th>43024</th>\n",
              "      <td>2012-09-30</td>\n",
              "      <td>2012-09-30 20:27:03</td>\n",
              "      <td>FEMALE</td>\n",
              "      <td>2014.0</td>\n",
              "      <td>basic</td>\n",
              "      <td>0</td>\n",
              "      <td>en</td>\n",
              "      <td>direct</td>\n",
              "      <td>direct</td>\n",
              "      <td>linked</td>\n",
              "      <td>Web</td>\n",
              "      <td>Mac Desktop</td>\n",
              "      <td>Safari</td>\n",
              "      <td>NaN</td>\n",
              "    </tr>\n",
              "    <tr>\n",
              "      <th>...</th>\n",
              "      <td>...</td>\n",
              "      <td>...</td>\n",
              "      <td>...</td>\n",
              "      <td>...</td>\n",
              "      <td>...</td>\n",
              "      <td>...</td>\n",
              "      <td>...</td>\n",
              "      <td>...</td>\n",
              "      <td>...</td>\n",
              "      <td>...</td>\n",
              "      <td>...</td>\n",
              "      <td>...</td>\n",
              "      <td>...</td>\n",
              "      <td>...</td>\n",
              "    </tr>\n",
              "    <tr>\n",
              "      <th>23633</th>\n",
              "      <td>2012-05-09</td>\n",
              "      <td>2012-05-09 02:45:00</td>\n",
              "      <td>MALE</td>\n",
              "      <td>101.0</td>\n",
              "      <td>basic</td>\n",
              "      <td>0</td>\n",
              "      <td>en</td>\n",
              "      <td>sem-non-brand</td>\n",
              "      <td>google</td>\n",
              "      <td>omg</td>\n",
              "      <td>Web</td>\n",
              "      <td>Mac Desktop</td>\n",
              "      <td>Safari</td>\n",
              "      <td>NaN</td>\n",
              "    </tr>\n",
              "    <tr>\n",
              "      <th>14821</th>\n",
              "      <td>2012-01-05</td>\n",
              "      <td>2012-01-05 23:30:08</td>\n",
              "      <td>FEMALE</td>\n",
              "      <td>101.0</td>\n",
              "      <td>facebook</td>\n",
              "      <td>2</td>\n",
              "      <td>en</td>\n",
              "      <td>direct</td>\n",
              "      <td>direct</td>\n",
              "      <td>untracked</td>\n",
              "      <td>Web</td>\n",
              "      <td>Mac Desktop</td>\n",
              "      <td>Safari</td>\n",
              "      <td>NaN</td>\n",
              "    </tr>\n",
              "    <tr>\n",
              "      <th>160710</th>\n",
              "      <td>2014-03-08</td>\n",
              "      <td>2014-03-08 02:50:37</td>\n",
              "      <td>FEMALE</td>\n",
              "      <td>101.0</td>\n",
              "      <td>facebook</td>\n",
              "      <td>0</td>\n",
              "      <td>en</td>\n",
              "      <td>direct</td>\n",
              "      <td>direct</td>\n",
              "      <td>linked</td>\n",
              "      <td>Web</td>\n",
              "      <td>Windows Desktop</td>\n",
              "      <td>Chrome</td>\n",
              "      <td>NaN</td>\n",
              "    </tr>\n",
              "    <tr>\n",
              "      <th>1615</th>\n",
              "      <td>2010-09-04</td>\n",
              "      <td>2010-09-04 21:06:38</td>\n",
              "      <td>FEMALE</td>\n",
              "      <td>101.0</td>\n",
              "      <td>basic</td>\n",
              "      <td>2</td>\n",
              "      <td>en</td>\n",
              "      <td>direct</td>\n",
              "      <td>direct</td>\n",
              "      <td>untracked</td>\n",
              "      <td>Web</td>\n",
              "      <td>Windows Desktop</td>\n",
              "      <td>IE</td>\n",
              "      <td>NaN</td>\n",
              "    </tr>\n",
              "    <tr>\n",
              "      <th>153062</th>\n",
              "      <td>2014-02-15</td>\n",
              "      <td>2014-02-15 00:54:41</td>\n",
              "      <td>MALE</td>\n",
              "      <td>101.0</td>\n",
              "      <td>facebook</td>\n",
              "      <td>12</td>\n",
              "      <td>zh</td>\n",
              "      <td>api</td>\n",
              "      <td>other</td>\n",
              "      <td>-1</td>\n",
              "      <td>iOS</td>\n",
              "      <td>Other/Unknown</td>\n",
              "      <td>-unknown-</td>\n",
              "      <td>NaN</td>\n",
              "    </tr>\n",
              "  </tbody>\n",
              "</table>\n",
              "<p>2345 rows × 14 columns</p>\n",
              "</div>"
            ],
            "text/plain": [
              "       date_account_created  ... member_age_bins\n",
              "68401            2013-04-01  ...             NaN\n",
              "40923            2012-09-14  ...             NaN\n",
              "77910            2013-05-18  ...             NaN\n",
              "145056           2014-01-23  ...             NaN\n",
              "43024            2012-09-30  ...             NaN\n",
              "...                     ...  ...             ...\n",
              "23633            2012-05-09  ...             NaN\n",
              "14821            2012-01-05  ...             NaN\n",
              "160710           2014-03-08  ...             NaN\n",
              "1615             2010-09-04  ...             NaN\n",
              "153062           2014-02-15  ...             NaN\n",
              "\n",
              "[2345 rows x 14 columns]"
            ]
          },
          "metadata": {
            "tags": []
          },
          "execution_count": 15
        }
      ]
    },
    {
      "cell_type": "code",
      "metadata": {
        "id": "HG3R6j56_0aP"
      },
      "source": [
        "df_all['member_age_bins']=df_all['age'].apply(lambda x: '18 - 20' if 18<x<=20\r\n",
        "                                                  else '20 - 30' if 20<x<=30\r\n",
        "                                                  else '30 - 40' if 30<x<=40\r\n",
        "                                                  else '40 - 50' if 40<x<=50\r\n",
        "                                                  else '50 - 60' if 50<x<=60\r\n",
        "                                                  else '60-70' if 60<x<=70\r\n",
        "                                                  else '70+' if 70<x<=100\r\n",
        "                                                  else np.nan)"
      ],
      "execution_count": null,
      "outputs": []
    },
    {
      "cell_type": "code",
      "metadata": {
        "colab": {
          "base_uri": "https://localhost:8080/",
          "height": 429
        },
        "id": "q6LoMjz5_0co",
        "outputId": "00f104f3-238c-42e5-f6fa-68a4190e60f0"
      },
      "source": [
        "#Plotting Age distribution of the members\r\n",
        "plt.figure(figsize=[10,5])\r\n",
        "sns.distplot(df_all.age.dropna(),bins=np.arange(18,100+5,5),kde=False);\r\n",
        "# ,color=sns.color_palette()[5]\r\n",
        "plt.xlabel('Age of members')\r\n",
        "plt.ylabel('Count')\r\n",
        "plt.title('Age distribution of Users')\r\n",
        "plt.xlim(18,100);"
      ],
      "execution_count": null,
      "outputs": [
        {
          "output_type": "stream",
          "text": [
            "/usr/local/lib/python3.6/dist-packages/seaborn/distributions.py:2551: FutureWarning: `distplot` is a deprecated function and will be removed in a future version. Please adapt your code to use either `displot` (a figure-level function with similar flexibility) or `histplot` (an axes-level function for histograms).\n",
            "  warnings.warn(msg, FutureWarning)\n"
          ],
          "name": "stderr"
        },
        {
          "output_type": "display_data",
          "data": {
            "image/png": "[encoded data removed]",
            "text/plain": [
              "<Figure size 720x360 with 1 Axes>"
            ]
          },
          "metadata": {
            "tags": []
          }
        }
      ]
    },
    {
      "cell_type": "markdown",
      "metadata": {
        "id": "kzCA1FV2INo9"
      },
      "source": [
        "* 目的地國家(預測目標y)分布"
      ]
    },
    {
      "cell_type": "code",
      "metadata": {
        "colab": {
          "base_uri": "https://localhost:8080/",
          "height": 429
        },
        "id": "_aBXw1ypIOZd",
        "outputId": "076668c7-5ac2-4853-ff27-c3212ae9f600"
      },
      "source": [
        "plt.figure(figsize=(10,5))\r\n",
        "order1 = df_all_y.value_counts().index\r\n",
        "sns.countplot(df_all_y, order = order1)\r\n",
        "# , color = sns.color_palette()[1]\r\n",
        "plt.xlabel('Destination')\r\n",
        "plt.ylabel('Count')\r\n",
        "plt.title('Destination Distribution')\r\n",
        "order2 = df_all_y.value_counts()\r\n",
        "\r\n",
        "for i in range(order2.shape[0]):\r\n",
        "    count = order2[i]\r\n",
        "    strt='{:0.1f}%'.format(100*count / len(df_all_y))\r\n",
        "    plt.text(i,count+1000,strt,ha='center')\r\n",
        "plt.show()"
      ],
      "execution_count": null,
      "outputs": [
        {
          "output_type": "stream",
          "text": [
            "/usr/local/lib/python3.6/dist-packages/seaborn/_decorators.py:43: FutureWarning: Pass the following variable as a keyword arg: x. From version 0.12, the only valid positional argument will be `data`, and passing other arguments without an explicit keyword will result in an error or misinterpretation.\n",
            "  FutureWarning\n"
          ],
          "name": "stderr"
        },
        {
          "output_type": "display_data",
          "data": {
            "image/png": "[encoded data removed]",
            "text/plain": [
              "<Figure size 720x360 with 1 Axes>"
            ]
          },
          "metadata": {
            "tags": []
          }
        }
      ]
    },
    {
      "cell_type": "markdown",
      "metadata": {
        "id": "SMifc5laIQVn"
      },
      "source": [
        "* 年齡對預測目標(目的地國家)的關係"
      ]
    },
    {
      "cell_type": "code",
      "metadata": {
        "colab": {
          "base_uri": "https://localhost:8080/",
          "height": 375
        },
        "id": "u8BMIsez_0er",
        "outputId": "e01d6475-e15f-4351-f6da-ccdc1491681c"
      },
      "source": [
        "plt.figure(figsize=[10,5])\r\n",
        "sns.boxplot(y=df_all['age'],x=df_all_y);\r\n",
        "# ,color=sns.color_palette()[6]\r\n",
        "plt.ylim(18,100)\r\n",
        "plt.xlabel('Country');\r\n",
        "plt.ylabel('Age');\r\n",
        "plt.title('Country-Age Distribution');"
      ],
      "execution_count": null,
      "outputs": [
        {
          "output_type": "display_data",
          "data": {
            "image/png": "[encoded data removed]",
            "text/plain": [
              "<Figure size 720x360 with 1 Axes>"
            ]
          },
          "metadata": {
            "tags": []
          }
        }
      ]
    },
    {
      "cell_type": "markdown",
      "metadata": {
        "id": "iJJbH3mFIZJp"
      },
      "source": [
        "* 性別對預測目標(目的地國家)的關係"
      ]
    },
    {
      "cell_type": "code",
      "metadata": {
        "colab": {
          "base_uri": "https://localhost:8080/",
          "height": 392
        },
        "id": "UUm3EaUZ_0gr",
        "outputId": "98ad0a24-2776-470a-e43d-9b0987b55031"
      },
      "source": [
        "plt.figure(figsize=(10,5))\r\n",
        "order1 = df_all_y.value_counts().index\r\n",
        "sns.countplot(data = df_all, x = df_all_y, order = order1, hue='gender')\r\n",
        "plt.xlabel('Destination')\r\n",
        "plt.ylabel('Count')\r\n",
        "plt.title('Gender-Destination Distribution')\r\n",
        "# order2 = df_train['country_destination'].value_counts()"
      ],
      "execution_count": null,
      "outputs": [
        {
          "output_type": "execute_result",
          "data": {
            "text/plain": [
              "Text(0.5, 1.0, 'Gender-Destination Distribution')"
            ]
          },
          "metadata": {
            "tags": []
          },
          "execution_count": 500
        },
        {
          "output_type": "display_data",
          "data": {
            "image/png": "[encoded data removed]",
            "text/plain": [
              "<Figure size 720x360 with 1 Axes>"
            ]
          },
          "metadata": {
            "tags": []
          }
        }
      ]
    },
    {
      "cell_type": "markdown",
      "metadata": {
        "id": "U1l31aG7I-fb"
      },
      "source": [
        "## 前處理和特徵工程:"
      ]
    },
    {
      "cell_type": "markdown",
      "metadata": {
        "id": "-SXiFZ02uGay"
      },
      "source": [
        "* 對train_x, validaition_x, test_x填補遺漏值(填-1)"
      ]
    },
    {
      "cell_type": "code",
      "metadata": {
        "id": "RDtNq1_PKCL7"
      },
      "source": [
        "dfWork = pd.concat((df_all, df_test), axis=0, ignore_index=True)\r\n",
        "dfWork = dfWork.drop(['id', 'date_first_booking'], axis=1)\r\n",
        "Filling nan\r\n",
        "dfWork = dfWork.fillna(-1)"
      ],
      "execution_count": null,
      "outputs": []
    },
    {
      "cell_type": "code",
      "metadata": {
        "colab": {
          "base_uri": "https://localhost:8080/"
        },
        "id": "gklsaOEyb1Vb",
        "outputId": "c89d7079-aae8-4ab1-cd7e-903c34830136"
      },
      "source": [
        "dfWork.shape"
      ],
      "execution_count": null,
      "outputs": [
        {
          "output_type": "execute_result",
          "data": {
            "text/plain": [
              "(213451, 13)"
            ]
          },
          "metadata": {
            "tags": []
          },
          "execution_count": 17
        }
      ]
    },
    {
      "cell_type": "markdown",
      "metadata": {
        "id": "PX87fyamK_Bt"
      },
      "source": [
        "* 對train_x, validation_x, test_x的**date_account_created**作處理\r\n",
        "\r\n",
        "\r\n",
        "> 切開年份、月份，各自當獨立的變數，(因考慮月份和年份會對旅行目的地有影響)\r\n",
        "\r\n",
        "\r\n"
      ]
    },
    {
      "cell_type": "code",
      "metadata": {
        "id": "68iArk4fKCPD"
      },
      "source": [
        "# dac = pd.DataFrame(np.vstack(dfWork['date_account_created'].astype(str).str.replace(' 00:00:00', '')))\r\n",
        "dac = np.vstack(dfWork.date_account_created.astype(str).str.replace(' 00:00:00', '').apply(lambda x: list(map(int, x.split('-')))).values)\r\n",
        "dfWork['dac_year'] = dac[:,0]\r\n",
        "dfWork['dac_month'] = dac[:,1]\r\n",
        "dfWork = dfWork.drop(['date_account_created'], axis=1)"
      ],
      "execution_count": null,
      "outputs": []
    },
    {
      "cell_type": "code",
      "metadata": {
        "colab": {
          "base_uri": "https://localhost:8080/"
        },
        "id": "y90kivw3b8rS",
        "outputId": "19b47828-bc13-427e-d00f-127cb809cab3"
      },
      "source": [
        "dfWork.shape"
      ],
      "execution_count": null,
      "outputs": [
        {
          "output_type": "execute_result",
          "data": {
            "text/plain": [
              "(275547, 16)"
            ]
          },
          "metadata": {
            "tags": []
          },
          "execution_count": 376
        }
      ]
    },
    {
      "cell_type": "code",
      "metadata": {
        "colab": {
          "base_uri": "https://localhost:8080/",
          "height": 196
        },
        "id": "b3VBzSXqO0w7",
        "outputId": "abe31647-19c3-4875-e753-608e398b7da0"
      },
      "source": [
        "dfWork[['dac_year', 'dac_month']].head()"
      ],
      "execution_count": null,
      "outputs": [
        {
          "output_type": "execute_result",
          "data": {
            "text/html": [
              "<div>\n",
              "<style scoped>\n",
              "    .dataframe tbody tr th:only-of-type {\n",
              "        vertical-align: middle;\n",
              "    }\n",
              "\n",
              "    .dataframe tbody tr th {\n",
              "        vertical-align: top;\n",
              "    }\n",
              "\n",
              "    .dataframe thead th {\n",
              "        text-align: right;\n",
              "    }\n",
              "</style>\n",
              "<table border=\"1\" class=\"dataframe\">\n",
              "  <thead>\n",
              "    <tr style=\"text-align: right;\">\n",
              "      <th></th>\n",
              "      <th>dac_year</th>\n",
              "      <th>dac_month</th>\n",
              "    </tr>\n",
              "  </thead>\n",
              "  <tbody>\n",
              "    <tr>\n",
              "      <th>0</th>\n",
              "      <td>2010</td>\n",
              "      <td>6</td>\n",
              "    </tr>\n",
              "    <tr>\n",
              "      <th>1</th>\n",
              "      <td>2011</td>\n",
              "      <td>5</td>\n",
              "    </tr>\n",
              "    <tr>\n",
              "      <th>2</th>\n",
              "      <td>2010</td>\n",
              "      <td>9</td>\n",
              "    </tr>\n",
              "    <tr>\n",
              "      <th>3</th>\n",
              "      <td>2011</td>\n",
              "      <td>12</td>\n",
              "    </tr>\n",
              "    <tr>\n",
              "      <th>4</th>\n",
              "      <td>2010</td>\n",
              "      <td>9</td>\n",
              "    </tr>\n",
              "  </tbody>\n",
              "</table>\n",
              "</div>"
            ],
            "text/plain": [
              "   dac_year  dac_month\n",
              "0      2010          6\n",
              "1      2011          5\n",
              "2      2010          9\n",
              "3      2011         12\n",
              "4      2010          9"
            ]
          },
          "metadata": {
            "tags": []
          },
          "execution_count": 377
        }
      ]
    },
    {
      "cell_type": "markdown",
      "metadata": {
        "id": "0ysv91GSQ-GB"
      },
      "source": [
        "* 對train_x, validation_x, test_x的**timestamp_first_active**作處理\r\n",
        "\r\n",
        "\r\n",
        "> 切開年份、月份，各自當獨立的變數，(因考慮月份和年份會對旅行目的地有影響)\r\n",
        "\r\n",
        "\r\n"
      ]
    },
    {
      "cell_type": "code",
      "metadata": {
        "id": "HLuQXYHxRqUK"
      },
      "source": [
        "# train_x, validation_x\r\n",
        "tfa1 = np.vstack(df_all.timestamp_first_active.astype(str).str[:10].apply(lambda x: list(map(int, x.split('-')))).values)\r\n",
        "\r\n",
        "# test_x(資料格式跟上面的不一樣所以分開處理)\r\n",
        "tfa2 = np.vstack(df_test.timestamp_first_active.astype(str).apply(lambda x: list(map(int, [x[:4],x[4:6],x[6:8],x[8:10],x[10:12],x[12:14]]))).values)"
      ],
      "execution_count": null,
      "outputs": []
    },
    {
      "cell_type": "code",
      "metadata": {
        "id": "2HManSc2Q7Sd"
      },
      "source": [
        "dfWork['tfa_year'] = list(tfa1[:, 0]) + list(tfa2[:, 0])\r\n",
        "dfWork['tfa_month'] = list(tfa1[:, 1]) + list(tfa2[:, 1])\r\n",
        "dfWork = dfWork.drop(['timestamp_first_active'], axis=1)"
      ],
      "execution_count": null,
      "outputs": []
    },
    {
      "cell_type": "code",
      "metadata": {
        "colab": {
          "base_uri": "https://localhost:8080/"
        },
        "id": "gl5Pl9fhcAEj",
        "outputId": "5a850908-eecf-4fa9-d23f-47883ecc6c24"
      },
      "source": [
        "dfWork.shape"
      ],
      "execution_count": null,
      "outputs": [
        {
          "output_type": "execute_result",
          "data": {
            "text/plain": [
              "(275547, 17)"
            ]
          },
          "metadata": {
            "tags": []
          },
          "execution_count": 380
        }
      ]
    },
    {
      "cell_type": "code",
      "metadata": {
        "colab": {
          "base_uri": "https://localhost:8080/",
          "height": 196
        },
        "id": "Wxh1McVjRMxs",
        "outputId": "08649c21-f21e-4fe7-f088-55de5d40273e"
      },
      "source": [
        "dfWork[['tfa_year', 'tfa_month']].head()"
      ],
      "execution_count": null,
      "outputs": [
        {
          "output_type": "execute_result",
          "data": {
            "text/html": [
              "<div>\n",
              "<style scoped>\n",
              "    .dataframe tbody tr th:only-of-type {\n",
              "        vertical-align: middle;\n",
              "    }\n",
              "\n",
              "    .dataframe tbody tr th {\n",
              "        vertical-align: top;\n",
              "    }\n",
              "\n",
              "    .dataframe thead th {\n",
              "        text-align: right;\n",
              "    }\n",
              "</style>\n",
              "<table border=\"1\" class=\"dataframe\">\n",
              "  <thead>\n",
              "    <tr style=\"text-align: right;\">\n",
              "      <th></th>\n",
              "      <th>tfa_year</th>\n",
              "      <th>tfa_month</th>\n",
              "    </tr>\n",
              "  </thead>\n",
              "  <tbody>\n",
              "    <tr>\n",
              "      <th>0</th>\n",
              "      <td>2009</td>\n",
              "      <td>3</td>\n",
              "    </tr>\n",
              "    <tr>\n",
              "      <th>1</th>\n",
              "      <td>2009</td>\n",
              "      <td>5</td>\n",
              "    </tr>\n",
              "    <tr>\n",
              "      <th>2</th>\n",
              "      <td>2009</td>\n",
              "      <td>6</td>\n",
              "    </tr>\n",
              "    <tr>\n",
              "      <th>3</th>\n",
              "      <td>2009</td>\n",
              "      <td>10</td>\n",
              "    </tr>\n",
              "    <tr>\n",
              "      <th>4</th>\n",
              "      <td>2009</td>\n",
              "      <td>12</td>\n",
              "    </tr>\n",
              "  </tbody>\n",
              "</table>\n",
              "</div>"
            ],
            "text/plain": [
              "   tfa_year  tfa_month\n",
              "0      2009          3\n",
              "1      2009          5\n",
              "2      2009          6\n",
              "3      2009         10\n",
              "4      2009         12"
            ]
          },
          "metadata": {
            "tags": []
          },
          "execution_count": 381
        }
      ]
    },
    {
      "cell_type": "markdown",
      "metadata": {
        "id": "9sQIqqxCVwg-"
      },
      "source": [
        "* 處理年齡離群值(小於10歲和大於100歲的改成-1)"
      ]
    },
    {
      "cell_type": "code",
      "metadata": {
        "id": "NoApxWo0VuXv"
      },
      "source": [
        "av = dfWork.age.values\r\n",
        "dfWork['age'] = np.where(np.logical_or(av<10, av>100), -1, av)"
      ],
      "execution_count": null,
      "outputs": []
    },
    {
      "cell_type": "markdown",
      "metadata": {
        "id": "monsSEM2V7F6"
      },
      "source": [
        "* onehot"
      ]
    },
    {
      "cell_type": "code",
      "metadata": {
        "colab": {
          "base_uri": "https://localhost:8080/"
        },
        "id": "AyghFIOCcNSu",
        "outputId": "1cf2d63a-e4e1-4efe-973e-e7cd52b5e746"
      },
      "source": [
        "dfWork.info()"
      ],
      "execution_count": null,
      "outputs": [
        {
          "output_type": "stream",
          "text": [
            "<class 'pandas.core.frame.DataFrame'>\n",
            "RangeIndex: 275547 entries, 0 to 275546\n",
            "Data columns (total 17 columns):\n",
            " #   Column                   Non-Null Count   Dtype  \n",
            "---  ------                   --------------   -----  \n",
            " 0   gender                   275547 non-null  object \n",
            " 1   age                      275547 non-null  float64\n",
            " 2   signup_method            275547 non-null  object \n",
            " 3   signup_flow              275547 non-null  int64  \n",
            " 4   language                 275547 non-null  object \n",
            " 5   affiliate_channel        275547 non-null  object \n",
            " 6   affiliate_provider       275547 non-null  object \n",
            " 7   first_affiliate_tracked  275547 non-null  object \n",
            " 8   signup_app               275547 non-null  object \n",
            " 9   first_device_type        275547 non-null  object \n",
            " 10  first_browser            275547 non-null  object \n",
            " 11  acc_year                 275547 non-null  float64\n",
            " 12  member_age_bins          275547 non-null  object \n",
            " 13  dac_year                 275547 non-null  int64  \n",
            " 14  dac_month                275547 non-null  int64  \n",
            " 15  tfa_year                 275547 non-null  int64  \n",
            " 16  tfa_month                275547 non-null  int64  \n",
            "dtypes: float64(2), int64(5), object(10)\n",
            "memory usage: 35.7+ MB\n"
          ],
          "name": "stdout"
        }
      ]
    },
    {
      "cell_type": "code",
      "metadata": {
        "colab": {
          "base_uri": "https://localhost:8080/"
        },
        "id": "agLDf4Q-sfIw",
        "outputId": "68c67f0b-f6b5-434f-ee73-1d82027048ad"
      },
      "source": [
        "cate = ['gender', 'signup_method', 'signup_flow', 'language', 'affiliate_channel',\r\n",
        "             'affiliate_provider', 'first_affiliate_tracked', 'signup_app', 'first_device_type', 'first_browser']\r\n",
        "for f in cate:\r\n",
        "    print(f, '共有', dfWork[f].value_counts().shape[0], '類')"
      ],
      "execution_count": null,
      "outputs": [
        {
          "output_type": "stream",
          "text": [
            "gender 共有 4 類\n",
            "signup_method 共有 4 類\n",
            "signup_flow 共有 18 類\n",
            "language 共有 26 類\n",
            "affiliate_channel 共有 8 類\n",
            "affiliate_provider 共有 18 類\n",
            "first_affiliate_tracked 共有 8 類\n",
            "signup_app 共有 4 類\n",
            "first_device_type 共有 9 類\n",
            "first_browser 共有 55 類\n"
          ],
          "name": "stdout"
        }
      ]
    },
    {
      "cell_type": "markdown",
      "metadata": {
        "id": "SU9DobbOgSqk"
      },
      "source": [
        "* first browser很多類都只有一個 所以把稀有程度前25高的類別一律改成'other'"
      ]
    },
    {
      "cell_type": "code",
      "metadata": {
        "colab": {
          "base_uri": "https://localhost:8080/"
        },
        "id": "FOaYra2ve11S",
        "outputId": "f253a6b5-943c-4aa3-896a-b52cea22b942"
      },
      "source": [
        "dfWork['first_browser'].value_counts().sort_values(0)[:25]"
      ],
      "execution_count": null,
      "outputs": [
        {
          "output_type": "execute_result",
          "data": {
            "text/plain": [
              "PS Vita browser         1\n",
              "IBrowse                 1\n",
              "Epic                    1\n",
              "Googlebot               1\n",
              "NetNewsWire             1\n",
              "Nintendo Browser        1\n",
              "Arora                   1\n",
              "Palm Pre web browser    1\n",
              "Stainless               1\n",
              "UC Browser              1\n",
              "Google Earth            1\n",
              "Outlook 2007            1\n",
              "IceDragon               1\n",
              "Conkeror                1\n",
              "Kindle Browser          1\n",
              "TheWorld Browser        2\n",
              "OmniWeb                 2\n",
              "Flock                   2\n",
              "Comodo Dragon           2\n",
              "SlimBrowser             2\n",
              "Crazy Browser           2\n",
              "Mozilla                 3\n",
              "Opera Mobile            4\n",
              "Avant Browser           4\n",
              "CoolNovo                6\n",
              "Name: first_browser, dtype: int64"
            ]
          },
          "metadata": {
            "tags": []
          },
          "execution_count": 385
        }
      ]
    },
    {
      "cell_type": "code",
      "metadata": {
        "colab": {
          "base_uri": "https://localhost:8080/"
        },
        "id": "tCMa378qdE57",
        "outputId": "1204766b-82f6-4ff6-83c1-216e680522ca"
      },
      "source": [
        "rare_browser = dfWork['first_browser'].value_counts().index[30:]\r\n",
        "for i, v in enumerate(dfWork['first_browser']):\r\n",
        "   if v in rare_browser:\r\n",
        "     dfWork['first_browser'][i] = 'other'"
      ],
      "execution_count": null,
      "outputs": [
        {
          "output_type": "stream",
          "text": [
            "/usr/local/lib/python3.6/dist-packages/ipykernel_launcher.py:4: SettingWithCopyWarning: \n",
            "A value is trying to be set on a copy of a slice from a DataFrame\n",
            "\n",
            "See the caveats in the documentation: https://pandas.pydata.org/pandas-docs/stable/user_guide/indexing.html#returning-a-view-versus-a-copy\n",
            "  after removing the cwd from sys.path.\n"
          ],
          "name": "stderr"
        }
      ]
    },
    {
      "cell_type": "code",
      "metadata": {
        "id": "A7A-jskKiL2k"
      },
      "source": [
        "dfWork.columns\r\n",
        "dfWork = dfWork.drop('member_age_bins', axis = 1)"
      ],
      "execution_count": null,
      "outputs": []
    },
    {
      "cell_type": "code",
      "metadata": {
        "id": "hDoRNlzEdCrH"
      },
      "source": [
        "onehot = ['gender', 'signup_method', 'signup_flow', 'language', 'affiliate_channel',  \r\n",
        "      'affiliate_provider', 'first_affiliate_tracked', 'signup_app', 'first_device_type', 'first_browser']\r\n",
        "for f in onehot:\r\n",
        "    dfWork_dummy = pd.get_dummies(dfWork[f], prefix=f)\r\n",
        "    dfWork = dfWork.drop([f], axis=1)\r\n",
        "    dfWork = pd.concat((dfWork, dfWork_dummy), axis=1)"
      ],
      "execution_count": null,
      "outputs": []
    },
    {
      "cell_type": "markdown",
      "metadata": {
        "id": "MFFUWxSRXBMd"
      },
      "source": [
        "* 對預測目標(目的地國家)編碼"
      ]
    },
    {
      "cell_type": "code",
      "metadata": {
        "id": "IKe_oGQsXBgM"
      },
      "source": [
        "from sklearn.preprocessing import LabelEncoder\r\n",
        "\r\n",
        "le = LabelEncoder()\r\n",
        "labeled_y = le.fit_transform(df_all_y)"
      ],
      "execution_count": null,
      "outputs": []
    },
    {
      "cell_type": "code",
      "metadata": {
        "colab": {
          "base_uri": "https://localhost:8080/"
        },
        "id": "tOAburYZZooi",
        "outputId": "b2f39c13-f6df-4e3c-d85a-2f0aed2fbccd"
      },
      "source": [
        "# 原始資料\r\n",
        "df_all_y.head(5)"
      ],
      "execution_count": null,
      "outputs": [
        {
          "output_type": "execute_result",
          "data": {
            "text/plain": [
              "0      NDF\n",
              "1      NDF\n",
              "2       US\n",
              "3    other\n",
              "4       US\n",
              "Name: country_destination, dtype: object"
            ]
          },
          "metadata": {
            "tags": []
          },
          "execution_count": 390
        }
      ]
    },
    {
      "cell_type": "code",
      "metadata": {
        "colab": {
          "base_uri": "https://localhost:8080/"
        },
        "id": "xjG6pocpZjwK",
        "outputId": "d8544c96-786b-4cda-9688-18b642354d49"
      },
      "source": [
        "# 編碼後\r\n",
        "labeled_y[:5]"
      ],
      "execution_count": null,
      "outputs": [
        {
          "output_type": "execute_result",
          "data": {
            "text/plain": [
              "array([ 7,  7, 10, 11, 10])"
            ]
          },
          "metadata": {
            "tags": []
          },
          "execution_count": 391
        }
      ]
    },
    {
      "cell_type": "markdown",
      "metadata": {
        "id": "k6YuPX7wYUf2"
      },
      "source": [
        "* split train, validation data"
      ]
    },
    {
      "cell_type": "code",
      "metadata": {
        "id": "ubAFEwMXY-yp"
      },
      "source": [
        "test_x = dfWork.values[df_all.shape[0]:]\r\n",
        "dfWork_cut = dfWork[:df_all.shape[0]] # 把test_x拿出來後 要剪掉"
      ],
      "execution_count": null,
      "outputs": []
    },
    {
      "cell_type": "code",
      "metadata": {
        "id": "TTb7rpuHXBs0"
      },
      "source": [
        "from sklearn.model_selection import train_test_split\r\n",
        "train_x, validation_x, train_y, validation_y = train_test_split(dfWork_cut, labeled_y, test_size=0.3, random_state= 1, shuffle = True)"
      ],
      "execution_count": null,
      "outputs": []
    },
    {
      "cell_type": "code",
      "metadata": {
        "colab": {
          "base_uri": "https://localhost:8080/"
        },
        "id": "aF_r__VVYL7w",
        "outputId": "34f24dd3-9374-412e-9f5f-52062ffd980d"
      },
      "source": [
        "print('訓練資料(70%)筆數: ', train_x.shape[0])\r\n",
        "print('驗證資料(30%)筆數: ', validation_x.shape[0])\r\n",
        "print('測試資料筆數: ', test_x.shape[0])"
      ],
      "execution_count": null,
      "outputs": [
        {
          "output_type": "stream",
          "text": [
            "訓練資料(70%)筆數:  149415\n",
            "驗證資料(30%)筆數:  64036\n",
            "測試資料筆數:  62096\n"
          ],
          "name": "stdout"
        }
      ]
    },
    {
      "cell_type": "code",
      "metadata": {
        "id": "_RfN2fBviRl_"
      },
      "source": [
        ""
      ],
      "execution_count": null,
      "outputs": []
    }
  ]
}